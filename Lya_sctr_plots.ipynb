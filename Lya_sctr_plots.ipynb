{
 "cells": [
  {
   "cell_type": "code",
   "execution_count": 4,
   "metadata": {},
   "outputs": [],
   "source": [
    "import lya_scattering_mc as lya\n",
    "import matplotlib.pyplot as plt\n",
    "from matplotlib_params import set_plt_params\n",
    "plt = set_plt_params(plt)"
   ]
  },
  {
   "cell_type": "code",
   "execution_count": 2,
   "metadata": {},
   "outputs": [
    {
     "data": {
      "application/vnd.jupyter.widget-view+json": {
       "model_id": "636b66138305441fb46bfb5d2a53dd6f",
       "version_major": 2,
       "version_minor": 0
      },
      "text/plain": [
       "HBox(children=(IntProgress(value=0, description='Bin', max=10, style=ProgressStyle(description_width='initial'…"
      ]
     },
     "metadata": {},
     "output_type": "display_data"
    },
    {
     "name": "stderr",
     "output_type": "stream",
     "text": [
      "/Users/itamar/anaconda2/envs/mangos/lib/python3.7/site-packages/astropy/units/quantity.py:463: RuntimeWarning: divide by zero encountered in true_divide\n",
      "  result = super().__array_ufunc__(function, method, *arrays, **kwargs)\n",
      "/Users/itamar/anaconda2/envs/mangos/lib/python3.7/site-packages/astropy/units/quantity.py:463: RuntimeWarning: invalid value encountered in subtract\n",
      "  result = super().__array_ufunc__(function, method, *arrays, **kwargs)\n"
     ]
    },
    {
     "name": "stdout",
     "output_type": "stream",
     "text": [
      "\n"
     ]
    }
   ],
   "source": [
    "lya_scatter = lya.LyaSctr_MC(z_s=10, nof_nu_bins=10, nof_R=1000)\n",
    "lya_scatter.run()"
   ]
  },
  {
   "cell_type": "code",
   "execution_count": 5,
   "metadata": {},
   "outputs": [
    {
     "data": {
      "image/png": "[encoded data removed]",
      "text/plain": [
       "<Figure size 1080x504 with 1 Axes>"
      ]
     },
     "metadata": {
      "needs_background": "light"
     },
     "output_type": "display_data"
    }
   ],
   "source": [
    "import matplotlib.pyplot as plt\n",
    "plt.figure(figsize = (15,7))\n",
    "\n",
    "plt.title('source redshift = 10', fontsize = 20)\n",
    "\n",
    "for idx in range(4,10):\n",
    "    nu = lya_scatter.nu_grid[idx]/lya_scatter.nu_a\n",
    "    Rs_Mpc = lya_scatter.R_all[idx].to(lya.u.Mpc).value\n",
    "    plt.hist(Rs_Mpc, density=False, label = r'$\\nu / \\nu_\\alpha$ = {:.3f}'.format(nu), alpha = 0.7, bins = 25)\n",
    "\n",
    "plt.xlabel('R [Mpc]', fontsize = 20)\n",
    "plt.xticks(fontsize = 20)\n",
    "plt.yticks(fontsize = 20)\n",
    "plt.legend(fontsize = 20)\n",
    "plt.yscale('log')\n",
    "plt.tight_layout()\n",
    "plt.show()"
   ]
  },
  {
   "cell_type": "code",
   "execution_count": null,
   "metadata": {},
   "outputs": [
    {
     "data": {
      "application/vnd.jupyter.widget-view+json": {
       "model_id": "71db12afc68340f2927ea6f373004602",
       "version_major": 2,
       "version_minor": 0
      },
      "text/plain": [
       "HBox(children=(IntProgress(value=0, description='Bin', max=10, style=ProgressStyle(description_width='initial'…"
      ]
     },
     "metadata": {},
     "output_type": "display_data"
    },
    {
     "name": "stderr",
     "output_type": "stream",
     "text": [
      "/Users/itamar/anaconda2/envs/mangos/lib/python3.7/site-packages/astropy/units/quantity.py:463: RuntimeWarning: divide by zero encountered in true_divide\n",
      "  result = super().__array_ufunc__(function, method, *arrays, **kwargs)\n",
      "/Users/itamar/anaconda2/envs/mangos/lib/python3.7/site-packages/astropy/units/quantity.py:463: RuntimeWarning: invalid value encountered in subtract\n",
      "  result = super().__array_ufunc__(function, method, *arrays, **kwargs)\n"
     ]
    }
   ],
   "source": [
    "lya_scatter = lya.LyaSctr_MC(z_s=30, nof_nu_bins=10, nof_R=1000)\n",
    "lya_scatter.run()"
   ]
  },
  {
   "cell_type": "code",
   "execution_count": null,
   "metadata": {},
   "outputs": [],
   "source": [
    "import matplotlib.pyplot as plt\n",
    "plt.figure(figsize = (15,7))\n",
    "\n",
    "plt.title('source redshift = 30', fontsize = 20)\n",
    "\n",
    "for idx in range(4,10):\n",
    "    nu = lya_scatter.nu_grid[idx]/lya_scatter.nu_a\n",
    "    Rs_Mpc = lya_scatter.R_all[idx].to(u.Mpc).value\n",
    "    plt.hist(Rs_Mpc, density=False, label = r'$\\nu / \\nu_\\alpha$ = {:.4f}'.format(nu), alpha = 0.7, bins = 25)\n",
    "\n",
    "plt.xlabel('R [Mpc]', fontsize = 20)\n",
    "plt.xticks(fontsize = 20)\n",
    "plt.yticks(fontsize = 20)\n",
    "plt.legend(fontsize = 20)\n",
    "plt.yscale('log')\n",
    "plt.tight_layout()\n",
    "plt.show()"
   ]
  },
  {
   "cell_type": "code",
   "execution_count": null,
   "metadata": {},
   "outputs": [],
   "source": []
  }
 ],
 "metadata": {
  "kernelspec": {
   "display_name": "Python 3",
   "language": "python",
   "name": "python3"
  },
  "language_info": {
   "codemirror_mode": {
    "name": "ipython",
    "version": 3
   },
   "file_extension": ".py",
   "mimetype": "text/x-python",
   "name": "python",
   "nbconvert_exporter": "python",
   "pygments_lexer": "ipython3",
   "version": "3.7.2"
  }
 },
 "nbformat": 4,
 "nbformat_minor": 2
}
